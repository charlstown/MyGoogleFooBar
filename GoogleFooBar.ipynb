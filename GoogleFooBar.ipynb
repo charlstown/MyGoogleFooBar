{
 "cells": [
  {
   "cell_type": "markdown",
   "metadata": {},
   "source": [
    "# Google Foo Bar"
   ]
  },
  {
   "cell_type": "markdown",
   "metadata": {},
   "source": [
    "https://foobar.withgoogle.com/\n",
    "\n",
    "*Why did you sign up for infiltration duty again? The pamphlets from Bunny HQ promised exotic and interesting missions, yet here you are drudging in the lowest level of Commander Lambda's organization. Hopefully you get that promotion soon...*"
   ]
  },
  {
   "cell_type": "markdown",
   "metadata": {},
   "source": [
    "## Level I"
   ]
  },
  {
   "cell_type": "markdown",
   "metadata": {},
   "source": [
    "### Challenge: I Love Lance & Janice\n",
    "```\n",
    "You've caught two of your fellow minions passing coded notes back and forth -- while they're on duty, no less! Worse, you're pretty sure it's not job-related -- they're both huge fans of the space soap opera \"\"Lance & Janice\"\". You know how much Commander Lambda hates waste, so if you can prove that these minions are wasting time passing non-job-related notes, it'll put you that much closer to a promotion. \n",
    "\n",
    "Fortunately for you, the minions aren't exactly advanced cryptographers. In their code, every lowercase letter [a..z] is replaced with the corresponding one in [z..a], while every other character (including uppercase letters and punctuation) is left untouched.  That is, 'a' becomes 'z', 'b' becomes 'y', 'c' becomes 'x', etc.  For instance, the word \"\"vmxibkgrlm\"\", when decoded, would become \"\"encryption\"\".\n",
    "\n",
    "Write a function called solution(s) which takes in a string and returns the deciphered string so you can show the commander proof that these minions are talking about \"\"Lance & Janice\"\" instead of doing their jobs.\n",
    "\n",
    "Languages\n",
    "=========\n",
    "\n",
    "To provide a Python solution, edit solution.py\n",
    "To provide a Java solution, edit Solution.java\n",
    "\n",
    "Test cases\n",
    "==========\n",
    "Your code should pass the following test cases.\n",
    "Note that it may also be run against hidden test cases not shown here.\n",
    "\n",
    "-- Python cases --\n",
    "Input:\n",
    "solution.solution(\"wrw blf hvv ozhg mrtsg'h vkrhlwv?\")\n",
    "Output:\n",
    "    did you see last night's episode?\n",
    "\n",
    "Input:\n",
    "solution.solution(\"Yvzs! I xzm'g yvorvev Lzmxv olhg srh qly zg gsv xlolmb!!\")\n",
    "Output:\n",
    "    Yeah! I can't believe Lance lost his job at the colony!!\n",
    "\n",
    "-- Java cases --\n",
    "Input:\n",
    "Solution.solution(\"Yvzs! I xzm'g yvorvev Lzmxv olhg srh qly zg gsv xlolmb!!\")\n",
    "Output:\n",
    "    Yeah! I can't believe Lance lost his job at the colony!!\n",
    "\n",
    "Input:\n",
    "Solution.solution(\"wrw blf hvv ozhg mrtsg'h vkrhlwv?\")\n",
    "Output:\n",
    "    did you see last night's episode?\n",
    "\n",
    "Use verify [file] to test your solution and see how it does. When you are finished editing your code, use submit [file] to submit your answer. If your solution passes the test cases, it will be removed from your home folder.\n",
    "```"
   ]
  },
  {
   "cell_type": "code",
   "execution_count": 26,
   "metadata": {},
   "outputs": [],
   "source": [
    "def solution(x):\n",
    "    alpha = \"abcdefghijklmnopqrstuvwxyz\"\n",
    "    alpha_reverse = alpha[::-1]\n",
    "    abc_map = dict(zip(alpha, alpha_reverse)) # mapped dictionary\n",
    "    decode_lst = [abc_map[letter] if letter in alpha else letter for letter in x]\n",
    "    decode_message = ''.join(decode_lst)\n",
    "    return decode_message"
   ]
  },
  {
   "cell_type": "code",
   "execution_count": 28,
   "metadata": {},
   "outputs": [
    {
     "data": {
      "text/plain": [
       "\"did you see last night's episode?\""
      ]
     },
     "execution_count": 28,
     "metadata": {},
     "output_type": "execute_result"
    }
   ],
   "source": [
    "solution(\"wrw blf hvv ozhg mrtsg'h vkrhlwv?\")"
   ]
  },
  {
   "cell_type": "markdown",
   "metadata": {},
   "source": [
    "## Level II"
   ]
  },
  {
   "cell_type": "markdown",
   "metadata": {},
   "source": [
    "### Challenge: Bunny Worker Locations\n",
    "```\n",
    "Keeping track of Commander Lambda's many bunny workers is starting to get tricky. You've been tasked with writing a program to match bunny worker IDs to cell locations.\n",
    "\n",
    "The LAMBCHOP doomsday device takes up much of the interior of Commander Lambda's space station, and as a result the work areas have an unusual layout. They are stacked in a triangular shape, and the bunny workers are given numerical IDs starting from the corner, as follows:\n",
    "\n",
    "| 7\n",
    "| 4 8\n",
    "| 2 5 9\n",
    "| 1 3 6 10\n",
    "\n",
    "Each cell can be represented as points (x, y), with x being the distance from the vertical wall, and y being the height from the ground. \n",
    "\n",
    "For example, the bunny worker at (1, 1) has ID 1, the bunny worker at (3, 2) has ID 9, and the bunny worker at (2,3) has ID 8. This pattern of numbering continues indefinitely (Commander Lambda has been adding a LOT of workers). \n",
    "\n",
    "Write a function solution(x, y) which returns the worker ID of the bunny at location (x, y). Each value of x and y will be at least 1 and no greater than 100,000. Since the worker ID can be very large, return your solution as a string representation of the number.\n",
    "\n",
    "Languages\n",
    "=========\n",
    "\n",
    "To provide a Java solution, edit Solution.java\n",
    "To provide a Python solution, edit solution.py\n",
    "\n",
    "Test cases\n",
    "==========\n",
    "Your code should pass the following test cases.\n",
    "Note that it may also be run against hidden test cases not shown here.\n",
    "\n",
    "-- Java cases --\n",
    "Input:\n",
    "Solution.solution(3, 2)\n",
    "Output:\n",
    "    9\n",
    "\n",
    "Input:\n",
    "Solution.solution(5, 10)\n",
    "Output:\n",
    "    96\n",
    "\n",
    "-- Python cases --\n",
    "Input:\n",
    "solution.solution(5, 10)\n",
    "Output:\n",
    "    96\n",
    "\n",
    "Input:\n",
    "solution.solution(3, 2)\n",
    "Output:\n",
    "    9\n",
    "\n",
    "Use verify [file] to test your solution and see how it does. When you are finished editing your code, use submit [file] to submit your answer. If your solution passes the test cases, it will be removed from your home folder.\n",
    "```"
   ]
  },
  {
   "cell_type": "code",
   "execution_count": 68,
   "metadata": {},
   "outputs": [],
   "source": [
    "def solution(x, y):\n",
    "    line = x + y -1\n",
    "    start_line = sum([i for i in range(line)])\n",
    "    worker_id = str(start_line + x)\n",
    "    return worker_id"
   ]
  },
  {
   "cell_type": "code",
   "execution_count": 69,
   "metadata": {},
   "outputs": [
    {
     "name": "stdout",
     "output_type": "stream",
     "text": [
      "8\n"
     ]
    }
   ],
   "source": [
    "print(solution(2, 3))"
   ]
  },
  {
   "cell_type": "markdown",
   "metadata": {},
   "source": [
    "### Challenge: Don't Get Volunteered!\n",
    "```\n",
    "Don't Get Volunteered!\n",
    "======================\n",
    "\n",
    "As a henchman on Commander Lambda's space station, you're expected to be resourceful, smart, and a quick thinker. It's not easy building a doomsday device and ordering the bunnies around at the same time, after all! In order to make sure that everyone is sufficiently quick-witted, Commander Lambda has installed new flooring outside the henchman dormitories. It looks like a chessboard, and every morning and evening you have to solve a new movement puzzle in order to cross the floor. That would be fine if you got to be the rook or the queen, but instead, you have to be the knight. Worse, if you take too much time solving the puzzle, you get \"volunteered\" as a test subject for the LAMBCHOP doomsday device!\n",
    "\n",
    "To help yourself get to and from your bunk every day, write a function called solution(src, dest) which takes in two parameters: the source square, on which you start, and the destination square, which is where you need to land to solve the puzzle.  The function should return an integer representing the smallest number of moves it will take for you to travel from the source square to the destination square using a chess knight's moves (that is, two squares in any direction immediately followed by one square perpendicular to that direction, or vice versa, in an \"L\" shape).  Both the source and destination squares will be an integer between 0 and 63, inclusive, and are numbered like the example chessboard below:\n",
    "\n",
    "-------------------------\n",
    "| 0| 1| 2| 3| 4| 5| 6| 7|\n",
    "-------------------------\n",
    "| 8| 9|10|11|12|13|14|15|\n",
    "-------------------------\n",
    "|16|17|18|19|20|21|22|23|\n",
    "-------------------------\n",
    "|24|25|26|27|28|29|30|31|\n",
    "-------------------------\n",
    "|32|33|34|35|36|37|38|39|\n",
    "-------------------------\n",
    "|40|41|42|43|44|45|46|47|\n",
    "-------------------------\n",
    "|48|49|50|51|52|53|54|55|\n",
    "-------------------------\n",
    "|56|57|58|59|60|61|62|63|\n",
    "-------------------------\n",
    "\n",
    "Languages\n",
    "=========\n",
    "\n",
    "To provide a Python solution, edit solution.py\n",
    "To provide a Java solution, edit Solution.java\n",
    "\n",
    "Test cases\n",
    "==========\n",
    "Your code should pass the following test cases.\n",
    "Note that it may also be run against hidden test cases not shown here.\n",
    "\n",
    "-- Python cases --\n",
    "Input:\n",
    "solution.solution(0, 1)\n",
    "Output:\n",
    "    3\n",
    "\n",
    "Input:\n",
    "solution.solution(19, 36)\n",
    "Output:\n",
    "    1\n",
    "\n",
    "-- Java cases --\n",
    "Input:\n",
    "Solution.solution(19, 36)\n",
    "Output:\n",
    "    1\n",
    "\n",
    "Input:\n",
    "Solution.solution(0, 1)\n",
    "Output:\n",
    "    3\n",
    "\n",
    "Use verify [file] to test your solution and see how it does. When you are finished editing your code, use submit [file] to submit your answer. If your solution passes the test cases, it will be removed from your home folder.\n",
    "```"
   ]
  },
  {
   "cell_type": "code",
   "execution_count": 107,
   "metadata": {
    "scrolled": false
   },
   "outputs": [
    {
     "data": {
      "text/plain": [
       "6"
      ]
     },
     "execution_count": 107,
     "metadata": {},
     "output_type": "execute_result"
    }
   ],
   "source": [
    "def solution(src, dest):\n",
    "    def position_to_coordinate(position):\n",
    "        return (int(position/8), (position % 8))\n",
    "    def coordinate_to_position(coordinate):\n",
    "        lines = [list(range(8*i, 8*i+8)) for i in range(0, 8)]\n",
    "        return lines[coordinate[0]][coordinate[1]]\n",
    "    def possible_moves(cell):\n",
    "        idx = position_to_coordinate(cell)\n",
    "        moves = [(2, 1), (1, 2), (-1, 2), (2, -1), (-2, 1), (1, -2), (-1, -2), (-2, -1)]\n",
    "        solutions = [(idx[0] + move[0], idx[1] + move [1]) for move in moves\\\n",
    "                 if 0 <= idx[0]+ move[0] < 8 and 0 <= idx[1]+ move[1] < 8]\n",
    "        return [coordinate_to_position(coor) for coor in solutions]\n",
    "    \n",
    "    # code\n",
    "    next_moves = [src]\n",
    "    moves_counter = 0\n",
    "    while dest not in next_moves:\n",
    "        all_moves = []\n",
    "        for position in next_moves:\n",
    "            moves = possible_moves(position)\n",
    "            all_moves += moves\n",
    "        next_moves = all_moves\n",
    "        moves_counter += 1\n",
    "    return moves_counter\n",
    "    \n",
    "solution(0, 63)"
   ]
  },
  {
   "cell_type": "code",
   "execution_count": 2,
   "metadata": {},
   "outputs": [
    {
     "data": {
      "text/plain": [
       "3"
      ]
     },
     "execution_count": 2,
     "metadata": {},
     "output_type": "execute_result"
    }
   ],
   "source": [
    "def solution(src, dest):\n",
    "    possible_moves = [(2, 1), (1, 2), (-1, 2), (2, -1), (-2, 1), (1, -2), (-1, -2), (-2, -1)]\n",
    "    lines = [list(range(8*i, 8*i+8)) for i in range(0, 8)]\n",
    "    next_moves = [src]\n",
    "    moves_counter = 0\n",
    "    while dest not in next_moves:\n",
    "        all_moves = []\n",
    "        for position in next_moves:\n",
    "            # Possible moves\n",
    "            idx = int(position/8), (position % 8)\n",
    "            solutions = [(idx[0] + move[0], idx[1] + move [1]) for move in possible_moves\\\n",
    "                         if 0 <= idx[0]+ move[0] < 8 and 0 <= idx[1]+ move[1] < 8]\n",
    "            moves = [lines[coor[0]][coor[1]] for coor in solutions]\n",
    "            all_moves += moves\n",
    "        next_moves = all_moves\n",
    "        moves_counter += 1\n",
    "    return moves_counter\n",
    "    \n",
    "solution(0, 1)"
   ]
  },
  {
   "cell_type": "markdown",
   "metadata": {},
   "source": [
    "## Level III"
   ]
  },
  {
   "cell_type": "markdown",
   "metadata": {},
   "source": [
    "### Challenge: Bomb, Baby!\n",
    "````\n",
    "Bomb, Baby!\n",
    "===========\n",
    "\n",
    "You're so close to destroying the LAMBCHOP doomsday device you can taste it! But in order to do so, you need to deploy special self-replicating bombs designed for you by the brightest scientists on Bunny Planet. There are two types: Mach bombs (M) and Facula bombs (F). The bombs, once released into the LAMBCHOP's inner workings, will automatically deploy to all the strategic points you've identified and destroy them at the same time. \n",
    "\n",
    "But there's a few catches. First, the bombs self-replicate via one of two distinct processes: \n",
    "Every Mach bomb retrieves a sync unit from a Facula bomb; for every Mach bomb, a Facula bomb is created;\n",
    "Every Facula bomb spontaneously creates a Mach bomb.\n",
    "\n",
    "For example, if you had 3 Mach bombs and 2 Facula bombs, they could either produce 3 Mach bombs and 5 Facula bombs, or 5 Mach bombs and 2 Facula bombs. The replication process can be changed each cycle. \n",
    "\n",
    "Second, you need to ensure that you have exactly the right number of Mach and Facula bombs to destroy the LAMBCHOP device. Too few, and the device might survive. Too many, and you might overload the mass capacitors and create a singularity at the heart of the space station - not good! \n",
    "\n",
    "And finally, you were only able to smuggle one of each type of bomb - one Mach, one Facula - aboard the ship when you arrived, so that's all you have to start with. (Thus it may be impossible to deploy the bombs to destroy the LAMBCHOP, but that's not going to stop you from trying!) \n",
    "\n",
    "You need to know how many replication cycles (generations) it will take to generate the correct amount of bombs to destroy the LAMBCHOP. Write a function solution(M, F) where M and F are the number of Mach and Facula bombs needed. Return the fewest number of generations (as a string) that need to pass before you'll have the exact number of bombs necessary to destroy the LAMBCHOP, or the string \"impossible\" if this can't be done! M and F will be string representations of positive integers no larger than 10^50. For example, if M = \"2\" and F = \"1\", one generation would need to pass, so the solution would be \"1\". However, if M = \"2\" and F = \"4\", it would not be possible.\n",
    "\n",
    "Languages\n",
    "=========\n",
    "\n",
    "To provide a Java solution, edit Solution.java\n",
    "To provide a Python solution, edit solution.py\n",
    "\n",
    "Test cases\n",
    "==========\n",
    "Your code should pass the following test cases.\n",
    "Note that it may also be run against hidden test cases not shown here.\n",
    "\n",
    "-- Java cases --\n",
    "Input:\n",
    "Solution.solution('2', '1')\n",
    "Output:\n",
    "    1\n",
    "\n",
    "Input:\n",
    "Solution.solution('4', '7')\n",
    "Output:\n",
    "    4\n",
    "\n",
    "-- Python cases --\n",
    "Input:\n",
    "solution.solution('4', '7')\n",
    "Output:\n",
    "    4\n",
    "\n",
    "Input:\n",
    "solution.solution('2', '1')\n",
    "Output:\n",
    "    1\n",
    "\n",
    "Use verify [file] to test your solution and see how it does. When you are finished editing your code, use submit [file] to submit your answer. If your solution passes the test cases, it will be removed from your home folder.\n",
    "```"
   ]
  },
  {
   "cell_type": "code",
   "execution_count": 79,
   "metadata": {
    "scrolled": true
   },
   "outputs": [
    {
     "data": {
      "text/plain": [
       "'8'"
      ]
     },
     "execution_count": 79,
     "metadata": {},
     "output_type": "execute_result"
    }
   ],
   "source": [
    "def solution(x, y):\n",
    "    def new_patterns(patterns, limit):\n",
    "        new = []\n",
    "        check = []\n",
    "        for pattern in patterns:\n",
    "            a = sum(pattern)\n",
    "            if a > limit:\n",
    "                continue\n",
    "            else:\n",
    "                if {pattern[0], a} not in check:\n",
    "                    new.append((pattern[0], a))\n",
    "                    check.append({pattern[0], a})\n",
    "                if {pattern[1], a} not in check:\n",
    "                    new.append((a, pattern[1]))\n",
    "                    check.append({pattern[1], a})    \n",
    "        return new\n",
    "    # Code\n",
    "    x, y = int(x), int(y)\n",
    "    patterns = [(1, 1)]\n",
    "    count = -1\n",
    "    check = True\n",
    "    while check:\n",
    "        test = 0\n",
    "        for pattern in patterns:\n",
    "            # Checks if the solution is in the patterns\n",
    "            if x in pattern and y in pattern:\n",
    "                count += 1\n",
    "                return str(count)\n",
    "            # Checks if the specific pattern is over the limit\n",
    "            if pattern[0] > x or pattern[1] > y:\n",
    "                test += 1\n",
    "        patterns = new_patterns(patterns, max([x, y]))\n",
    "        # Checks if all patterns are over the limit\n",
    "        if len(patterns) == 0:\n",
    "            return 'impossible'\n",
    "        count += 1\n",
    "        \n",
    "solution('50', '21')"
   ]
  },
  {
   "cell_type": "code",
   "execution_count": 77,
   "metadata": {},
   "outputs": [
    {
     "data": {
      "text/plain": [
       "'8'"
      ]
     },
     "execution_count": 77,
     "metadata": {},
     "output_type": "execute_result"
    }
   ],
   "source": [
    "def solution(x, y):\n",
    "    x, y = int(x), int(y)\n",
    "    if x*y == 0:\n",
    "        return 'impossible'\n",
    "    bombs = [x, y]\n",
    "    count = 0\n",
    "    while x > 1 or y > 1:\n",
    "        bomb_idx = bombs.index(max(x, y))\n",
    "        bombs[bomb_idx] = bombs[bomb_idx] - bombs[1-bomb_idx]\n",
    "        x, y = bombs[0], bombs[1]\n",
    "        count += 1\n",
    "        if x < 1 or y < 1:\n",
    "            return 'impossible'\n",
    "    return str(count)\n",
    "        \n",
    "solution(20, '3')"
   ]
  },
  {
   "cell_type": "code",
   "execution_count": 78,
   "metadata": {},
   "outputs": [
    {
     "data": {
      "text/plain": [
       "'5263157894736842112'"
      ]
     },
     "execution_count": 78,
     "metadata": {},
     "output_type": "execute_result"
    }
   ],
   "source": [
    "def solution(x, y):\n",
    "    int_bombs = [int(x), int(y)]\n",
    "    x, y = max(int_bombs), min(int_bombs)\n",
    "    if x*y == 0:\n",
    "        return 'impossible'\n",
    "    count = 0\n",
    "    # iterations optimization\n",
    "    mn_in_mx = int(x/y)\n",
    "    if mn_in_mx > 1:\n",
    "        x = x - (y*(mn_in_mx-1))\n",
    "        count = mn_in_mx - 1\n",
    "    # regular iterator\n",
    "    bombs = [x, y]\n",
    "    while x > 1 or y > 1:\n",
    "        bomb_idx = bombs.index(max(x, y))\n",
    "        bombs[bomb_idx] = bombs[bomb_idx] - bombs[1-bomb_idx]\n",
    "        x, y = bombs[0], bombs[1]\n",
    "        count += 1\n",
    "        if x < 1 or y < 1:\n",
    "            return 'impossible'\n",
    "    return str(count)\n",
    "    \n",
    "solution(10**20, '19')"
   ]
  }
 ],
 "metadata": {
  "kernelspec": {
   "display_name": "Python 3",
   "language": "python",
   "name": "python3"
  }
 },
 "nbformat": 4,
 "nbformat_minor": 4
}
