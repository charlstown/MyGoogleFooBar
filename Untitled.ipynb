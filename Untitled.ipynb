{
 "cells": [
  {
   "cell_type": "code",
   "execution_count": 77,
   "metadata": {},
   "outputs": [
    {
     "name": "stdout",
     "output_type": "stream",
     "text": [
      "60 0 60\n"
     ]
    }
   ],
   "source": [
    "def panel_fixer(panels):\n",
    "    power_output = 1\n",
    "    count = 0\n",
    "    negative = None\n",
    "    panels = sorted(panels)\n",
    "    \n",
    "    if len(panels) == 1:\n",
    "        return str(panels[0])\n",
    "    \n",
    "    # Loop through panels\n",
    "    for power in panels:\n",
    "        # Positives\n",
    "        if power > 0:\n",
    "            power_output *= power\n",
    "            count += 1\n",
    "        # Negatives\n",
    "        elif power < 0:\n",
    "            if negative:\n",
    "                power_output *= (power*negative)\n",
    "                count += 1\n",
    "                negative = None\n",
    "            else:\n",
    "                negative = power\n",
    "    if count == 0:\n",
    "        return \"0\"\n",
    "    return str(power_output)\n",
    "    \n",
    "    \n",
    "# Power Panels\n",
    "panel_one = [2, -3, 2, -5]\n",
    "panel_two = [0, 0, 0, -1]\n",
    "panel_three =  [-2, -3, 4, -5]\n",
    "\n",
    "\n",
    "# Resolution\n",
    "output_one = panel_fixer(panel_one)\n",
    "output_two = panel_fixer(panel_two)\n",
    "output_three = panel_fixer(panel_three)\n",
    "\n",
    "print(output_one, output_two, output_three)"
   ]
  },
  {
   "cell_type": "code",
   "execution_count": 56,
   "metadata": {},
   "outputs": [
    {
     "data": {
      "text/plain": [
       "[-10, -5, 3, 5]"
      ]
     },
     "execution_count": 56,
     "metadata": {},
     "output_type": "execute_result"
    }
   ],
   "source": [
    "panels = [3, -5, 5, -10]\n",
    "sorted(panels)"
   ]
  },
  {
   "cell_type": "code",
   "execution_count": 62,
   "metadata": {},
   "outputs": [
    {
     "name": "stdout",
     "output_type": "stream",
     "text": [
      "[-3, -5]\n",
      "True\n",
      "[0, 1, 2, 3, 5]\n"
     ]
    }
   ],
   "source": [
    "panels = [2, -3, 1, 0, -5]\n",
    "\n",
    "# negativos\n",
    "negativos = [i for i in panels if i<0]\n",
    "print(negativos)\n",
    "\n",
    "# Negativos impares\n",
    "if len(negativos)%2 == 0:\n",
    "    print(True)\n",
    "\n",
    "# ordenamos la lista de valores absolutos\n",
    "sort_abs = sorted([abs(i) for i in panels])\n",
    "print(sort_abs)\n"
   ]
  }
 ],
 "metadata": {
  "kernelspec": {
   "display_name": "Python 3",
   "language": "python",
   "name": "python3"
  },
  "language_info": {
   "codemirror_mode": {
    "name": "ipython",
    "version": 3
   },
   "file_extension": ".py",
   "mimetype": "text/x-python",
   "name": "python",
   "nbconvert_exporter": "python",
   "pygments_lexer": "ipython3",
   "version": "3.7.7"
  }
 },
 "nbformat": 4,
 "nbformat_minor": 4
}
